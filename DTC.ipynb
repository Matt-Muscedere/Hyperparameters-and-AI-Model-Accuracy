{
 "cells": [
  {
   "cell_type": "code",
   "execution_count": 1,
   "metadata": {},
   "outputs": [],
   "source": [
    "import pandas as pd\n",
    "from sklearn.model_selection import GridSearchCV\n",
    "from sklearn.tree import DecisionTreeClassifier\n",
    "from sklearn.preprocessing import StandardScaler"
   ]
  },
  {
   "cell_type": "markdown",
   "metadata": {},
   "source": [
    "## Setup Train/Test Data"
   ]
  },
  {
   "cell_type": "code",
   "execution_count": 2,
   "metadata": {},
   "outputs": [],
   "source": [
    "# Retrieve Training and Testing Data \n",
    "df_train = pd.read_csv('data/trainClean.csv')\n",
    "df_test = pd.read_csv('data/testClean.csv')"
   ]
  },
  {
   "cell_type": "markdown",
   "metadata": {},
   "source": [
    "## Setup features and target"
   ]
  },
  {
   "cell_type": "code",
   "execution_count": 3,
   "metadata": {},
   "outputs": [],
   "source": [
    "X_train = df_train.drop(columns='Transported')\n",
    "y_train = df_train['Transported']"
   ]
  },
  {
   "cell_type": "markdown",
   "metadata": {},
   "source": [
    "## Running default DTC"
   ]
  },
  {
   "cell_type": "code",
   "execution_count": 19,
   "metadata": {},
   "outputs": [
    {
     "data": {
      "text/plain": [
       "array([0, 0, 1, ..., 1, 0, 0], dtype=int64)"
      ]
     },
     "execution_count": 19,
     "metadata": {},
     "output_type": "execute_result"
    }
   ],
   "source": [
    "dtc = DecisionTreeClassifier()\n",
    "dtc.fit(X_train, y_train)\n",
    "\n",
    "pred = dtc.predict(df_test)\n",
    "pred"
   ]
  },
  {
   "cell_type": "code",
   "execution_count": 20,
   "metadata": {},
   "outputs": [],
   "source": [
    "tfMap = { 0: False, 1: True }\n",
    "\n",
    "kaggleCSV = pd.DataFrame(columns=['PassengerId', 'Transported'])\n",
    "kaggleCSV['PassengerId'] = df_test['PassengerId']\n",
    "kaggleCSV['Transported'] = [tfMap[i] for i in pred]\n",
    "\n",
    "kaggleCSV.to_csv('results/DTC_results_before.csv', index=False)"
   ]
  },
  {
   "cell_type": "markdown",
   "metadata": {},
   "source": [
    "## Setup Grid Search"
   ]
  },
  {
   "cell_type": "code",
   "execution_count": 35,
   "metadata": {},
   "outputs": [],
   "source": [
    "dtc = DecisionTreeClassifier()"
   ]
  },
  {
   "cell_type": "code",
   "execution_count": 38,
   "metadata": {},
   "outputs": [],
   "source": [
    "# Parameter grid with hyperparameters to tune\n",
    "param_grid = {\n",
    "    'criterion': ['gini', 'entropy', 'log_loss'],\n",
    "    'splitter': ['best', 'random'],\n",
    "    'max_depth': [2, 6, 10, 14, 18],\n",
    "    'min_samples_split': [2, 6, 10, 14, 18],\n",
    "    'min_samples_leaf': [2, 6, 10, 14, 18],\n",
    "    'min_weight_fraction_leaf': [0.1, 0.3, 0.5],\n",
    "    'max_features': ['sqrt', 'log2'],\n",
    "    'random_state': [2, 6, 10, 14, 18]\n",
    "}\n",
    "\n",
    "gs = GridSearchCV(estimator=dtc, param_grid=param_grid, scoring='accuracy', cv=5).fit(X_train, y_train)"
   ]
  },
  {
   "cell_type": "code",
   "execution_count": 39,
   "metadata": {},
   "outputs": [],
   "source": [
    "gs_results_df = pd.DataFrame(gs.cv_results_)\n",
    "gs_results_df = gs_results_df.sort_values('rank_test_score')\n",
    "gs_results_df.to_csv('DTC_Results/dtc_gs_results.csv')"
   ]
  },
  {
   "cell_type": "markdown",
   "metadata": {},
   "source": [
    "## Running Best DTC"
   ]
  },
  {
   "cell_type": "code",
   "execution_count": 45,
   "metadata": {},
   "outputs": [
    {
     "data": {
      "text/plain": [
       "array([1, 0, 1, ..., 1, 0, 1], dtype=int64)"
      ]
     },
     "execution_count": 45,
     "metadata": {},
     "output_type": "execute_result"
    }
   ],
   "source": [
    "dtc = DecisionTreeClassifier(criterion=\"gini\", splitter=\"best\", max_depth=14, min_samples_split=18, min_samples_leaf=18, min_weight_fraction_leaf=0.1, max_features=\"log2\",random_state=6)\n",
    "dtc.fit(X_train, y_train)\n",
    "\n",
    "pred = dtc.predict(df_test)\n",
    "pred"
   ]
  },
  {
   "cell_type": "code",
   "execution_count": 10,
   "metadata": {},
   "outputs": [],
   "source": [
    "tfMap = { 0: False, 1: True }\n",
    "\n",
    "kaggleCSV = pd.DataFrame(columns=['PassengerId', 'Transported'])\n",
    "kaggleCSV['PassengerId'] = df_test['PassengerId']\n",
    "kaggleCSV['Transported'] = [tfMap[i] for i in pred]\n",
    "\n",
    "kaggleCSV.to_csv('results/DTC_results_after.csv', index=False)"
   ]
  },
  {
   "cell_type": "markdown",
   "metadata": {},
   "source": [
    "## Running Worst DTC"
   ]
  },
  {
   "cell_type": "code",
   "execution_count": 4,
   "metadata": {},
   "outputs": [
    {
     "data": {
      "text/plain": [
       "array([1, 1, 1, ..., 1, 1, 1], dtype=int64)"
      ]
     },
     "execution_count": 4,
     "metadata": {},
     "output_type": "execute_result"
    }
   ],
   "source": [
    "dtc = DecisionTreeClassifier(criterion=\"entropy\", splitter=\"best\", max_depth=2, min_samples_split=6, min_samples_leaf=14, min_weight_fraction_leaf=0.5, max_features=\"sqrt\",random_state=2)\n",
    "dtc.fit(X_train, y_train)\n",
    "\n",
    "pred = dtc.predict(df_test)\n",
    "pred"
   ]
  },
  {
   "cell_type": "code",
   "execution_count": 5,
   "metadata": {},
   "outputs": [],
   "source": [
    "tfMap = { 0: False, 1: True }\n",
    "\n",
    "kaggleCSV = pd.DataFrame(columns=['PassengerId', 'Transported'])\n",
    "kaggleCSV['PassengerId'] = df_test['PassengerId']\n",
    "kaggleCSV['Transported'] = [tfMap[i] for i in pred]\n",
    "\n",
    "kaggleCSV.to_csv('results/DTC_results_after_worst.csv', index=False)"
   ]
  },
  {
   "cell_type": "code",
   "execution_count": null,
   "metadata": {},
   "outputs": [],
   "source": []
  }
 ],
 "metadata": {
  "kernelspec": {
   "display_name": "Python 3 (ipykernel)",
   "language": "python",
   "name": "python3"
  },
  "language_info": {
   "codemirror_mode": {
    "name": "ipython",
    "version": 3
   },
   "file_extension": ".py",
   "mimetype": "text/x-python",
   "name": "python",
   "nbconvert_exporter": "python",
   "pygments_lexer": "ipython3",
   "version": "3.12.0"
  }
 },
 "nbformat": 4,
 "nbformat_minor": 4
}
