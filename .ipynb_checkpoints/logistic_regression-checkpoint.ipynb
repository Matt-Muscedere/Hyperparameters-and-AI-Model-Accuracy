{
 "cells": [
  {
   "cell_type": "code",
   "execution_count": 20,
   "metadata": {},
   "outputs": [],
   "source": [
    "import pandas as pd\n",
    "from sklearn.linear_model import LogisticRegression\n",
    "from sklearn.model_selection import GridSearchCV\n",
    "from sklearn.preprocessing import StandardScaler"
   ]
  },
  {
   "cell_type": "code",
   "execution_count": 21,
   "metadata": {},
   "outputs": [],
   "source": [
    "# Retrieve Training and Testing Data \n",
    "df_train = pd.read_csv('data/trainClean.csv')\n",
    "df_test = pd.read_csv('data/testClean.csv')\n",
    "\n",
    "# Setup features and target\n",
    "X_train = df_train.drop(columns='Transported')\n",
    "y_train = df_train['Transported']\n",
    "\n",
    "# Preprocessing - Scale data\n",
    "scaler = StandardScaler()\n",
    "X_train_scaled = scaler.fit_transform(X_train)\n",
    "\n",
    "# Define the logistic regression model\n",
    "logistic_regression = LogisticRegression()"
   ]
  },
  {
   "cell_type": "code",
   "execution_count": 22,
   "metadata": {},
   "outputs": [],
   "source": [
    "# Define hyperparameters for tuning\n",
    "param_grid = {\n",
    "    'penalty': ['l1', 'l2', 'None'],\n",
    "    'C': [0.001, 0.01, 0.1, 1, 10, 100, 1000],\n",
    "    'max_iter': [100, 200, 300, 400, 500]\n",
    "}\n",
    "\n",
    "# Instantiate GridSearchCV tuner\n",
    "grid_search = GridSearchCV(\n",
    "    logistic_regression,\n",
    "    param_grid=param_grid,\n",
    "    cv=5,\n",
    "    scoring='accuracy'\n",
    ")"
   ]
  },
  {
   "cell_type": "code",
   "execution_count": 23,
   "metadata": {},
   "outputs": [
    {
     "name": "stdout",
     "output_type": "stream",
     "text": [
      "Best Hyperparameters: {'C': 100, 'max_iter': 100, 'penalty': 'l2'}\n"
     ]
    },
    {
     "name": "stderr",
     "output_type": "stream",
     "text": [
      "C:\\Users\\tjala\\AppData\\Local\\Packages\\PythonSoftwareFoundation.Python.3.10_qbz5n2kfra8p0\\LocalCache\\local-packages\\Python310\\site-packages\\sklearn\\model_selection\\_validation.py:425: FitFailedWarning: \n",
      "350 fits failed out of a total of 525.\n",
      "The score on these train-test partitions for these parameters will be set to nan.\n",
      "If these failures are not expected, you can try to debug them by setting error_score='raise'.\n",
      "\n",
      "Below are more details about the failures:\n",
      "--------------------------------------------------------------------------------\n",
      "175 fits failed with the following error:\n",
      "Traceback (most recent call last):\n",
      "  File \"C:\\Users\\tjala\\AppData\\Local\\Packages\\PythonSoftwareFoundation.Python.3.10_qbz5n2kfra8p0\\LocalCache\\local-packages\\Python310\\site-packages\\sklearn\\model_selection\\_validation.py\", line 729, in _fit_and_score\n",
      "    estimator.fit(X_train, y_train, **fit_params)\n",
      "  File \"C:\\Users\\tjala\\AppData\\Local\\Packages\\PythonSoftwareFoundation.Python.3.10_qbz5n2kfra8p0\\LocalCache\\local-packages\\Python310\\site-packages\\sklearn\\base.py\", line 1152, in wrapper\n",
      "    return fit_method(estimator, *args, **kwargs)\n",
      "  File \"C:\\Users\\tjala\\AppData\\Local\\Packages\\PythonSoftwareFoundation.Python.3.10_qbz5n2kfra8p0\\LocalCache\\local-packages\\Python310\\site-packages\\sklearn\\linear_model\\_logistic.py\", line 1169, in fit\n",
      "    solver = _check_solver(self.solver, self.penalty, self.dual)\n",
      "  File \"C:\\Users\\tjala\\AppData\\Local\\Packages\\PythonSoftwareFoundation.Python.3.10_qbz5n2kfra8p0\\LocalCache\\local-packages\\Python310\\site-packages\\sklearn\\linear_model\\_logistic.py\", line 56, in _check_solver\n",
      "    raise ValueError(\n",
      "ValueError: Solver lbfgs supports only 'l2' or 'none' penalties, got l1 penalty.\n",
      "\n",
      "--------------------------------------------------------------------------------\n",
      "175 fits failed with the following error:\n",
      "Traceback (most recent call last):\n",
      "  File \"C:\\Users\\tjala\\AppData\\Local\\Packages\\PythonSoftwareFoundation.Python.3.10_qbz5n2kfra8p0\\LocalCache\\local-packages\\Python310\\site-packages\\sklearn\\model_selection\\_validation.py\", line 729, in _fit_and_score\n",
      "    estimator.fit(X_train, y_train, **fit_params)\n",
      "  File \"C:\\Users\\tjala\\AppData\\Local\\Packages\\PythonSoftwareFoundation.Python.3.10_qbz5n2kfra8p0\\LocalCache\\local-packages\\Python310\\site-packages\\sklearn\\base.py\", line 1145, in wrapper\n",
      "    estimator._validate_params()\n",
      "  File \"C:\\Users\\tjala\\AppData\\Local\\Packages\\PythonSoftwareFoundation.Python.3.10_qbz5n2kfra8p0\\LocalCache\\local-packages\\Python310\\site-packages\\sklearn\\base.py\", line 638, in _validate_params\n",
      "    validate_parameter_constraints(\n",
      "  File \"C:\\Users\\tjala\\AppData\\Local\\Packages\\PythonSoftwareFoundation.Python.3.10_qbz5n2kfra8p0\\LocalCache\\local-packages\\Python310\\site-packages\\sklearn\\utils\\_param_validation.py\", line 96, in validate_parameter_constraints\n",
      "    raise InvalidParameterError(\n",
      "sklearn.utils._param_validation.InvalidParameterError: The 'penalty' parameter of LogisticRegression must be a str among {'l2', 'none' (deprecated), 'l1', 'elasticnet'} or None. Got 'None' instead.\n",
      "\n",
      "  warnings.warn(some_fits_failed_message, FitFailedWarning)\n",
      "C:\\Users\\tjala\\AppData\\Local\\Packages\\PythonSoftwareFoundation.Python.3.10_qbz5n2kfra8p0\\LocalCache\\local-packages\\Python310\\site-packages\\sklearn\\model_selection\\_search.py:979: UserWarning: One or more of the test scores are non-finite: [       nan 0.76268394        nan        nan 0.76268394        nan\n",
      "        nan 0.76268394        nan        nan 0.76268394        nan\n",
      "        nan 0.76268394        nan        nan 0.7748767         nan\n",
      "        nan 0.7748767         nan        nan 0.7748767         nan\n",
      "        nan 0.7748767         nan        nan 0.7748767         nan\n",
      "        nan 0.78062766        nan        nan 0.78062766        nan\n",
      "        nan 0.78062766        nan        nan 0.78062766        nan\n",
      "        nan 0.78062766        nan        nan 0.78120297        nan\n",
      "        nan 0.78120297        nan        nan 0.78120297        nan\n",
      "        nan 0.78120297        nan        nan 0.78120297        nan\n",
      "        nan 0.78200836        nan        nan 0.78200836        nan\n",
      "        nan 0.78200836        nan        nan 0.78200836        nan\n",
      "        nan 0.78200836        nan        nan 0.78235345        nan\n",
      "        nan 0.78235345        nan        nan 0.78235345        nan\n",
      "        nan 0.78235345        nan        nan 0.78235345        nan\n",
      "        nan 0.78235345        nan        nan 0.78235345        nan\n",
      "        nan 0.78235345        nan        nan 0.78235345        nan\n",
      "        nan 0.78235345        nan]\n",
      "  warnings.warn(\n"
     ]
    }
   ],
   "source": [
    "# Perform the hyperparameter search\n",
    "grid_search.fit(X_train_scaled, y_train)\n",
    "\n",
    "# Get the best hyperparameters\n",
    "best_params = grid_search.best_params_\n",
    "\n",
    "# Print the best hyperparameters\n",
    "print(\"Best Hyperparameters:\", best_params)"
   ]
  },
  {
   "cell_type": "code",
   "execution_count": 24,
   "metadata": {},
   "outputs": [],
   "source": [
    "# Build the logistic regression model using the best hyperparameters\n",
    "best_model = LogisticRegression(\n",
    "    penalty=best_params['penalty'],\n",
    "    C=best_params['C'],\n",
    "    max_iter=best_params['max_iter']\n",
    ")\n",
    "\n",
    "# Train the best model using all training data\n",
    "best_model.fit(X_train_scaled, y_train)\n",
    "\n",
    "# Prepare test data for predictions\n",
    "X_test_scaled = scaler.transform(df_test)\n",
    "\n",
    "# Predict using the best model on test data\n",
    "predictions = best_model.predict(X_test_scaled)\n",
    "pred = (predictions).astype(int)"
   ]
  },
  {
   "cell_type": "code",
   "execution_count": 25,
   "metadata": {},
   "outputs": [],
   "source": [
    "#CSV containing predictions\n",
    "tfMap = { 0: False, 1: True }\n",
    "\n",
    "kaggleCSV = pd.DataFrame(columns=['PassengerId', 'Transported'])\n",
    "kaggleCSV['PassengerId'] = df_test['PassengerId']\n",
    "kaggleCSV['Transported'] = [tfMap[i] for i in pred]\n",
    "\n",
    "kaggleCSV.to_csv('results/logistic_results.csv', index=False)"
   ]
  }
 ],
 "metadata": {
  "kernelspec": {
   "display_name": "Python 3",
   "language": "python",
   "name": "python3"
  },
  "language_info": {
   "codemirror_mode": {
    "name": "ipython",
    "version": 3
   },
   "file_extension": ".py",
   "mimetype": "text/x-python",
   "name": "python",
   "nbconvert_exporter": "python",
   "pygments_lexer": "ipython3",
   "version": "3.10.11"
  }
 },
 "nbformat": 4,
 "nbformat_minor": 2
}
